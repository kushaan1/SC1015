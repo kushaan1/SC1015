{
 "cells": [
  {
   "cell_type": "markdown",
   "id": "fc680f15",
   "metadata": {},
   "source": [
    "## SC1015 Data Science Mini Project "
   ]
  },
  {
   "cell_type": "markdown",
   "id": "6edf3ca3",
   "metadata": {},
   "source": [
    "School of Computer Science and Engineering\n",
    "\n",
    "Nanyang Technological University\n",
    "\n",
    "Lab: FCSB\n",
    "\n",
    "Group: 1\n",
    "\n",
    "Members:\n",
    "\n",
    "1. Kushaan Nagpal\n",
    "\n",
    "2. Kee Lek Heng\n",
    "\n",
    "3. Benjamin Kam"
   ]
  },
  {
   "cell_type": "markdown",
   "id": "9d6e0e40",
   "metadata": {},
   "source": [
    "#### This repository contains all the Jupyter Notebooks, datasets, images, video presentations, and the source materials/references we have used and created as part of the Mini Project for SC1015: Introduction to Data Science and AI.\n",
    "\n",
    "This README briefly highlights what we have accomplished in this project. If you want a more detailed explanation of things, please refer to the the Jupyter Notebooks in this repository. They contain more in-depth descriptions and smaller details which are not mentioned here in the README. For convenience, we have divided the notebooks into 5 parts which broadly relate to the 5 main sections of this project."
   ]
  },
  {
   "cell_type": "markdown",
   "id": "d30593f8",
   "metadata": {},
   "source": [
    "### Table of Contents\n",
    "1. Problem Formulation\n",
    "\n",
    "2. Data Preparation and Cleaning \n",
    "\n",
    "3. Exploratory Data Analysis and Visualisation of Data\n",
    "\n",
    "4. Linear Regression and Clustering\n",
    "\n",
    "5. Predictive Analysis and Conclusion\n"
   ]
  },
  {
   "cell_type": "markdown",
   "id": "b46a90e6",
   "metadata": {},
   "source": [
    "### 1. Problem Fomulation\n",
    "\n",
    "**Our Dataset:** https://www.kaggle.com/datasets/bhavikjikadara/brand-laptops-dataset/data\n",
    "\n",
    "**Our Problem Statement:** To analyse the extent of impacts of different hardware and software features on laptop prices, and use data analysis to determine which laptops have the least and the most value for money respectively.\n",
    "\n",
    "**Our factors**: We will take into account 3 variables, one numerical and 2 catergorical, to see which variable affects the price of the laptop the most and whether a highly-priced laptop is highly-rated.\n",
    "\n",
    "**Rationale:** We have always wondered what constitutes an expensive laptop and whether an expensive laptop has the best features, hence we decided to identify the variables that affect laptop prices and analyse whether a highly-priced laptop would be the best to purchase."
   ]
  },
  {
   "cell_type": "markdown",
   "id": "d8e963c1",
   "metadata": {},
   "source": [
    "### 2. Data Preparation and Cleaning\n",
    "\n",
    "In this segment, we decided on the variables to use for our project, and ruled out data that we deemed unnecessary so as to clean up our dataset to make it useful for analysis in later sections.\n",
    "\n",
    "We performed the following:\n",
    " 1. Selection of relevant variables: We selected two categorical and one numerical variables and placed them in a new DataFrame.\n",
    " 2. Removal of duplicate and NaN values.\n",
    " 3. Encoding of categorical variables: The categorical variables were converted into new columns and assigned a 1 or 0 (notation for true/false) value to the column.\n",
    " 4. Conversion to Pickle File: For easier collaboration."
   ]
  },
  {
   "cell_type": "markdown",
   "id": "b86e0c04",
   "metadata": {},
   "source": [
    "### 3. Exploratory Data Analysis\n",
    "\n",
    "To paint a clearer picture of what our DataFrame looked like and to observe the individual spread of data in each variable, we performed multiple EDAs to plot out the relevant graphs and visual maps.\n",
    "\n",
    "**For visual representations, we did the following:**\n",
    "1. Histograms with KDE: To observe the spread of the individual data while having a smooth overview of how the data varies.\n",
    "2. Box plots: To see the variation of mean prices within each individual aspect of the data. \n",
    "3. Statistics: We got the necessary basic statistics for each variable: mean, median, interquartile ranges as well as minimum and maximum values\n",
    "4. Bar plots, violin plots and strip plots: For ease of visualisation and to better understand the spread of our data."
   ]
  },
  {
   "cell_type": "markdown",
   "id": "edbac5e7",
   "metadata": {},
   "source": [
    "### 4. Linear Regression and Clustering\n",
    "\n",
    "We then perform linear regression to see which variable will affect price the most. To do this, we deploy a number of regression models, namely:\n",
    "\n",
    "1. **Linear Regression** - Confusion Matrix, Bar plots, Scatter plots\n",
    "2. **ANOVA test:** It is improbable to use linear regression models that we have used earlier in this course to create plots for categorical variables, hence we did one-hot encoding, as mentioned earlier. We also performed the ANOVA test to confirm that there are statistically significant differences between the mean prices of different brands and different processor brands.\n",
    "3. **Random Forest Regressor:** Returns the feature importance of each variable by comparing elements within the variable, to see which variable affects the dependent variable (price) the most.\n",
    "4. **Clustering:** Determined the optimal number of clusters using the **Elbow Method** and **Silohuette Score**. We initialise the KMeans algorithm with optimal number of clusters and fit it to the preprocessed data toobtain cluster assignments for each data point. After adding the cluster assignments to the DataFrame, we visualise the relationship between variables, segmented by clusters.\n"
   ]
  },
  {
   "cell_type": "markdown",
   "id": "d2ab851d",
   "metadata": {},
   "source": [
    "### 5. Predictive Analysis and Conclusion\n",
    "\n",
    "We used the variable that affects the price of laptops the most to try and predict the cost of the laptops and see whether it is accurate. After which, we decided to analyse deeper into our project by using Scatter plots to see if a highly priced laptop does have a high rating, and vice versa. We found an overarching general pattern - the higher the price of the laptop, the higher its rating. However, there was an obvious anomaly, the highest priced laptop brand actually had the lowest mean rating. We thus concluded that **\"the higher the price of the laptop, the higher the rating\"** would **NOT** always be true, and suggested two brands that users can consider due to their relatively lower price and the fact that they had the highest ratin."
   ]
  },
  {
   "cell_type": "code",
   "execution_count": null,
   "id": "cc6e9ded",
   "metadata": {},
   "outputs": [],
   "source": []
  }
 ],
 "metadata": {
  "kernelspec": {
   "display_name": "Python 3 (ipykernel)",
   "language": "python",
   "name": "python3"
  },
  "language_info": {
   "codemirror_mode": {
    "name": "ipython",
    "version": 3
   },
   "file_extension": ".py",
   "mimetype": "text/x-python",
   "name": "python",
   "nbconvert_exporter": "python",
   "pygments_lexer": "ipython3",
   "version": "3.11.5"
  }
 },
 "nbformat": 4,
 "nbformat_minor": 5
}
